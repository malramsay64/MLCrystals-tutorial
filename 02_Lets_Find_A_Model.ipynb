{
 "cells": [
  {
   "cell_type": "markdown",
   "metadata": {},
   "source": [
    "Finding a Machine Learning Model\n",
    "=================\n",
    "\n",
    "There are many different types of models we can use for classification,\n",
    "each of these models have types of problems they are well suited to.\n",
    "The goal of this notebook is to identify algorithms \n",
    "that will effectively classify our dataset\n",
    "which we can then investigate further."
   ]
  },
  {
   "cell_type": "markdown",
   "metadata": {},
   "source": [
    "### Collating the models\n",
    "\n",
    "The first step here is creating a list of models we would like to test.\n",
    "An excellent property of scikit-learn is \n",
    "that all the algorithms have the same API,\n",
    "allowing us to treat them all in the same way. \n",
    "\n",
    "This is not an exhastive list of all the possible classifiers in scikit-learn,\n",
    "just a smattering for comparison.\n",
    "For a more exhastive list check out [the scikit-learn documentation](http://scikit-learn.org/stable/supervised_learning.html#supervised-learning),\n",
    "and feel free to add more to the list."
   ]
  },
  {
   "cell_type": "code",
   "execution_count": 1,
   "metadata": {},
   "outputs": [],
   "source": [
    "from sklearn.linear_model import LogisticRegression, SGDClassifier\n",
    "from sklearn.discriminant_analysis import LinearDiscriminantAnalysis\n",
    "from sklearn.tree import DecisionTreeClassifier\n",
    "from sklearn.neighbors import KNeighborsClassifier\n",
    "from sklearn.naive_bayes import GaussianNB\n",
    "from sklearn.svm import SVC\n",
    "from sklearn.neural_network import MLPClassifier\n",
    "\n",
    "ml_models = {\n",
    "    'LR': LogisticRegression(),\n",
    "    'SGD': SGDClassifier(tol=1e-3, max_iter=1000),\n",
    "    'LDA': LinearDiscriminantAnalysis(),\n",
    "    'DT': DecisionTreeClassifier(),\n",
    "    'KNN': KNeighborsClassifier(),\n",
    "    'NB': GaussianNB(),\n",
    "    'SVM': SVC(),\n",
    "    'NN': MLPClassifier()\n",
    "}"
   ]
  },
  {
   "cell_type": "markdown",
   "metadata": {},
   "source": [
    "### Loading the training data\n",
    "\n",
    "We need to load in the training dataset we created in the first notebook.\n",
    "At this point we are interested in two sets of data,\n",
    "\n",
    "- $X$, the input data which is the orientation of the six nearest neighbours\n",
    "- $Y$, the true labelled classification of the data."
   ]
  },
  {
   "cell_type": "code",
   "execution_count": 2,
   "metadata": {},
   "outputs": [],
   "source": [
    "import pandas\n",
    "\n",
    "training_dataset = pandas.read_hdf('data/training_data.h5', key='trimer')\n",
    "X = training_dataset[['orient0', 'orient1', 'orient2', 'orient3', 'orient4', 'orient5']].values\n",
    "Y = training_dataset['class'].values\n",
    "classes = training_dataset['class'].unique()"
   ]
  },
  {
   "cell_type": "markdown",
   "metadata": {},
   "source": [
    "### Testing the Models\n",
    "\n",
    "With a collection of models to test,\n",
    "we now need some method of testing the models to compare them.\n",
    "To perform the initial screening of datasets\n",
    "we are going to break our training data into two groups,\n",
    "\n",
    "- the training set, comprising 80% of the molecules\n",
    "- the validation set, comprising the remaining 20%.\n",
    "\n",
    "This division of the dataset gives us a set of data \n",
    "previously unseen by the algorithms,\n",
    "giving us a method of testing whether\n",
    "the algorithm is acutally learning the underlying features,\n",
    "or just 'memorising' the training data.\n",
    "This division of data will be through a random selection\n",
    "so as not to bias the selection of data."
   ]
  },
  {
   "cell_type": "code",
   "execution_count": 3,
   "metadata": {},
   "outputs": [],
   "source": [
    "from sklearn import model_selection\n",
    "\n",
    "validation_size = 0.20\n",
    "seed = 7\n",
    "\n",
    "selected = model_selection.train_test_split(X, Y, test_size=validation_size, random_state=seed)\n",
    "X_train, X_validation, Y_train, Y_validation = selected"
   ]
  },
  {
   "cell_type": "markdown",
   "metadata": {},
   "source": [
    "To get an idea of the models which\n",
    "warrant a further investigation,\n",
    "we can iterate through each of our models.\n",
    "Each model is scored by breaking the training data into `n_splits`,\n",
    "using one of these splits for testing and\n",
    "the remaining splits for training.\n",
    "This process is referred to as *cross validation*\n",
    "and typically the number of splits is 10.\n",
    "For the purposes of this running in a reasonable amount of time,\n",
    "`n_splits` is set to 2."
   ]
  },
  {
   "cell_type": "code",
   "execution_count": 4,
   "metadata": {},
   "outputs": [
    {
     "name": "stdout",
     "output_type": "stream",
     "text": [
      "LR   : 0.91845 ± 0.00067\n",
      "SGD  : 0.91503 ± 0.00062\n",
      "LDA  : 0.90854 ± 0.00134\n",
      "DT   : 0.93097 ± 0.00081\n",
      "KNN  : 0.95798 ± 0.00025\n",
      "NB   : 0.93312 ± 0.00084\n",
      "SVM  : 0.95165 ± 0.00066\n",
      "NN   : 0.95561 ± 0.00122\n"
     ]
    }
   ],
   "source": [
    "scoring='accuracy'\n",
    "n_splits = 2\n",
    "# Typically n_splits would be 10 but it runs much slower\n",
    "#n_splits = 10\n",
    "\n",
    "# Iterate through each model in our dictionary of models\n",
    "for name, model in ml_models.items():\n",
    "    kfold = model_selection.KFold(n_splits=n_splits, random_state=seed)\n",
    "    cv_results = model_selection.cross_val_score(model, X_train, Y_train, cv=kfold, scoring=scoring)\n",
    "    print(f'{name:5s}: {cv_results.mean():.5f} ± {cv_results.std():.5f}')"
   ]
  },
  {
   "cell_type": "markdown",
   "metadata": {},
   "source": [
    "Out of all the algorithms tested, \n",
    "there are three that stand out \n",
    "\n",
    "- K-Nearest Neighbours (KNN),\n",
    "- Support Vector Machine (SVM), and\n",
    "- Neural Network (NN)\n",
    "\n",
    "with accuracies in excess of 95%. \n",
    "\n",
    "So with these three algorithms it is likely worth\n",
    "tweaking the algorithms slightly from \n",
    "the defualt paramters in an effort to improve performance.\n",
    "It is also worth understanding which classes\n",
    "each of these algorithms is strongest at classifying.\n",
    "For this additional data we are going to be using a [confusion matrix](http://scikit-learn.org/stable/modules/generated/sklearn.metrics.confusion_matrix.html).\n",
    "In a confusion matrix, \n",
    "the diagonal elements represent the correct classifications,\n",
    "while the off diagonal elements are the values \n",
    "which were incorrectly classified.\n",
    "\n",
    "Below we have a handy function from the scikit-learn documentation\n",
    "that will nicely plot the confusion matrix as a heatmap. "
   ]
  },
  {
   "cell_type": "code",
   "execution_count": 5,
   "metadata": {},
   "outputs": [],
   "source": [
    "import itertools\n",
    "\n",
    "import numpy as np\n",
    "import matplotlib.pyplot as plt\n",
    "from sklearn.metrics import confusion_matrix\n",
    "\n",
    "%matplotlib inline\n",
    "\n",
    "def plot_confusion_matrix(cm, classes,\n",
    "                          normalize=False,\n",
    "                          title='Confusion matrix',\n",
    "                          cmap=plt.cm.Blues):\n",
    "    \"\"\"\n",
    "    This function prints and plots the confusion matrix.\n",
    "    Normalization can be applied by setting `normalize=True`.\n",
    "    \"\"\"\n",
    "    if normalize:\n",
    "        cm = cm.astype('float') / cm.sum(axis=1)[:, np.newaxis]\n",
    "        print(\"Normalized confusion matrix\")\n",
    "    else:\n",
    "        print('Confusion matrix, without normalization')\n",
    "\n",
    "    plt.imshow(cm, interpolation='nearest', cmap=cmap)\n",
    "    plt.title(title)\n",
    "    plt.colorbar()\n",
    "    tick_marks = np.arange(len(classes))\n",
    "    plt.xticks(tick_marks, classes, rotation=45)\n",
    "    plt.yticks(tick_marks, classes)\n",
    "\n",
    "    fmt = '.2f' if normalize else 'd'\n",
    "    thresh = cm.max() / 2.\n",
    "    for i, j in itertools.product(range(cm.shape[0]), range(cm.shape[1])):\n",
    "        plt.text(j, i, format(cm[i, j], fmt),\n",
    "                 horizontalalignment=\"center\",\n",
    "                 color=\"white\" if cm[i, j] > thresh else \"black\")\n",
    "\n",
    "    plt.tight_layout()\n",
    "    plt.ylabel('True label')\n",
    "    plt.xlabel('Predicted label')"
   ]
  },
  {
   "cell_type": "markdown",
   "metadata": {},
   "source": [
    "It is this point where our breaking the data into\n",
    "training and validation sets becomes useful.\n",
    "We can train a classifier using the training set,\n",
    "then generate predictions of the validation dataset\n",
    "using the known values of the validation data\n",
    "to generate the confusion matrix."
   ]
  },
  {
   "cell_type": "code",
   "execution_count": 6,
   "metadata": {},
   "outputs": [
    {
     "name": "stdout",
     "output_type": "stream",
     "text": [
      "Normalized confusion matrix\n"
     ]
    },
    {
     "data": {
      "image/png": "[encoded data removed]",
      "text/plain": [
       "<matplotlib.figure.Figure at 0x1117f5be0>"
      ]
     },
     "metadata": {},
     "output_type": "display_data"
    }
   ],
   "source": [
    "knn = ml_models['KNN']\n",
    "knn.fit(X_train, Y_train)\n",
    "predictions = knn.predict(X_validation)\n",
    "plot_confusion_matrix(confusion_matrix(Y_validation, predictions, labels=classes), classes, normalize=True)"
   ]
  },
  {
   "cell_type": "code",
   "execution_count": 7,
   "metadata": {},
   "outputs": [
    {
     "name": "stdout",
     "output_type": "stream",
     "text": [
      "Normalized confusion matrix\n"
     ]
    },
    {
     "data": {
      "image/png": "[encoded data removed]",
      "text/plain": [
       "<matplotlib.figure.Figure at 0x121b0a940>"
      ]
     },
     "metadata": {},
     "output_type": "display_data"
    }
   ],
   "source": [
    "svm = ml_models['SVM']\n",
    "svm.fit(X_train, Y_train)\n",
    "predictions = svm.predict(X_validation)\n",
    "plot_confusion_matrix(confusion_matrix(Y_validation, predictions, labels=classes), classes, normalize=True)"
   ]
  },
  {
   "cell_type": "code",
   "execution_count": 8,
   "metadata": {},
   "outputs": [
    {
     "name": "stdout",
     "output_type": "stream",
     "text": [
      "Normalized confusion matrix\n"
     ]
    },
    {
     "data": {
      "image/png": "[encoded data removed]",
      "text/plain": [
       "<matplotlib.figure.Figure at 0x11de362b0>"
      ]
     },
     "metadata": {},
     "output_type": "display_data"
    }
   ],
   "source": [
    "nn = ml_models['NN']\n",
    "nn.fit(X_train, Y_train)\n",
    "predictions = nn.predict(X_validation)\n",
    "plot_confusion_matrix(confusion_matrix(Y_validation, predictions, labels=classes), classes, normalize=True)"
   ]
  },
  {
   "cell_type": "markdown",
   "metadata": {},
   "source": [
    "It is interesting to note that all of the models\n",
    "have the most difficulty with the liquid/crystal characterisation,\n",
    "with the largest proportion of false positives being \n",
    "crystal incorrectly classified as liquid. \n",
    "To make this model we have created persistent\n",
    "it needs to be saved which is done using `joblib`."
   ]
  },
  {
   "cell_type": "code",
   "execution_count": 9,
   "metadata": {},
   "outputs": [
    {
     "data": {
      "text/plain": [
       "['data/knn-model.pkl']"
      ]
     },
     "execution_count": 9,
     "metadata": {},
     "output_type": "execute_result"
    }
   ],
   "source": [
    "from sklearn.externals import joblib\n",
    "joblib.dump(ml_models['KNN'], 'data/knn-model.pkl') "
   ]
  },
  {
   "cell_type": "markdown",
   "metadata": {},
   "source": [
    "Now we have a model, we can look at using it in [production](03_ML_in_Production.ipynb) to measure useful quantities."
   ]
  }
 ],
 "metadata": {
  "kernelspec": {
   "display_name": "MLCrystals",
   "language": "python",
   "name": "mlcrystals"
  },
  "language_info": {
   "codemirror_mode": {
    "name": "ipython",
    "version": 3
   },
   "file_extension": ".py",
   "mimetype": "text/x-python",
   "name": "python",
   "nbconvert_exporter": "python",
   "pygments_lexer": "ipython3",
   "version": "3.6.4"
  }
 },
 "nbformat": 4,
 "nbformat_minor": 2
}
